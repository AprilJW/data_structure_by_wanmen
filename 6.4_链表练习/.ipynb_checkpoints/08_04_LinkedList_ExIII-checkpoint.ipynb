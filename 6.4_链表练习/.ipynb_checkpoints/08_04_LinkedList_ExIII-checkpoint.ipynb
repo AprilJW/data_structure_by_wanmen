{
 "cells": [
  {
   "cell_type": "markdown",
   "metadata": {},
   "source": [
    "# Linked List Practice III #"
   ]
  },
  {
   "cell_type": "code",
   "execution_count": 1,
   "metadata": {},
   "outputs": [
    {
     "ename": "ModuleNotFoundError",
     "evalue": "No module named 'LinkedList'",
     "output_type": "error",
     "traceback": [
      "\u001b[0;31m---------------------------------------------------------------------------\u001b[0m",
      "\u001b[0;31mModuleNotFoundError\u001b[0m                       Traceback (most recent call last)",
      "\u001b[0;32m<ipython-input-1-15b9aae0f06d>\u001b[0m in \u001b[0;36m<module>\u001b[0;34m()\u001b[0m\n\u001b[0;32m----> 1\u001b[0;31m \u001b[0;32mfrom\u001b[0m \u001b[0mLinkedList\u001b[0m \u001b[0;32mimport\u001b[0m \u001b[0mLinkedList\u001b[0m\u001b[0;34m\u001b[0m\u001b[0;34m\u001b[0m\u001b[0m\n\u001b[0m\u001b[1;32m      2\u001b[0m \u001b[0;32mfrom\u001b[0m \u001b[0mLinkedList\u001b[0m \u001b[0;32mimport\u001b[0m \u001b[0mNode\u001b[0m\u001b[0;34m\u001b[0m\u001b[0;34m\u001b[0m\u001b[0m\n",
      "\u001b[0;31mModuleNotFoundError\u001b[0m: No module named 'LinkedList'"
     ]
    }
   ],
   "source": [
    "from LinkedList import LinkedList\n",
    "from LinkedList import Node"
   ]
  },
  {
   "cell_type": "code",
   "execution_count": 1,
   "metadata": {},
   "outputs": [],
   "source": []
  },
  {
   "cell_type": "markdown",
   "metadata": {},
   "source": [
    "In this lecture, you will learn:\n",
    "\n",
    "<a href='#Ex1'>Ex.1 Reverse a Linked List</a>\n",
    "\n",
    "<a href='#Ex2'>Ex.2 Reverse a Linked List II</a>\n",
    "\n",
    "<a href='#Ex3'>Ex.3 Reverse a Linked List III</a>\n",
    "\n",
    "<a href='#Ex4'>Ex.4 Reverse a Linked List IV</a>\n",
    "\n",
    "<a href='#Ex5'>Ex.5 Palindrome Linked List</a>\n",
    "\n",
    "<a href='#Ex6'>Ex.6 Remove Duplicates from Sorted List</a>\n",
    "\n",
    "<a href='#Ex7'>Ex.7 Remove Duplicates from Sorted List II</a>\n",
    "\n"
   ]
  },
  {
   "cell_type": "markdown",
   "metadata": {},
   "source": [
    "### <a id='Ex0'>Ex.0Rotate a Linked List </a>"
   ]
  },
  {
   "cell_type": "code",
   "execution_count": null,
   "metadata": {},
   "outputs": [],
   "source": [
    "class Node:\n",
    "    def __init__(self, data):\n",
    "        self.val = data\n",
    "        self.next = None\n",
    "\n",
    "    def __str__(self):\n",
    "        return '{}'.format(self.val)\n",
    "\n",
    "\n",
    "class LinkedList:\n",
    "    def __init__(self):\n",
    "        self.head = Node(None)\n",
    "        self.tail = None\n",
    "\n",
    "    def append(self, data):\n",
    "        node = Node(data)\n",
    "        if self.head is None:\n",
    "            self.head = node\n",
    "            self.tail = node\n",
    "            return self\n",
    "        self.tail.next = node\n",
    "        self.tail = node\n",
    "        return self\n",
    "    \n",
    "    def add_last(self, data):\n",
    "        node = Node(data)\n",
    "        if self.head.next is None:\n",
    "            self.head.next = node\n",
    "            self.tail = node\n",
    "            return self\n",
    "        self.tail.next = node\n",
    "        self.tail = node\n",
    "        return self\n",
    "\n",
    "    def __iter__(self):\n",
    "        cur = self.head\n",
    "        while cur:\n",
    "            yield cur\n",
    "            cur = cur.next\n",
    "            \n",
    "    def printlist(self):\n",
    "        cur = self.head.next\n",
    "        while cur:\n",
    "            print(cur, end=',')            \n",
    "            cur = cur.next\n",
    "        print()\n",
    "        \n",
    "        \n",
    "    def __len__(self):\n",
    "        for i, _ in enumerate(self):\n",
    "            pass\n",
    "        return i + 1\n",
    "\n",
    "\n",
    "# ll = LinkedList()\n",
    "# ll.append(1).append(2).append(3).append(4).append(5).append(6).append(7)\n"
   ]
  },
  {
   "cell_type": "code",
   "execution_count": 135,
   "metadata": {},
   "outputs": [],
   "source": [
    "def rotateRight(head, k: int):\n",
    "        if k < 1 or head is None :\n",
    "            return head\n",
    "\n",
    "        cur = head\n",
    "        new_tail = head\n",
    "        l = 1\n",
    "        while cur.next:\n",
    "            cur = cur.next\n",
    "            l += 1\n",
    "            \n",
    "        k = k % l\n",
    "\n",
    "        cur.next = head\n",
    "        for i in range(l-k-1):\n",
    "            new_tail = new_tail.next\n",
    "\n",
    "        head = new_tail.next\n",
    "        new_tail.next = None\n",
    "\n",
    "        return head"
   ]
  },
  {
   "cell_type": "code",
   "execution_count": 138,
   "metadata": {},
   "outputs": [
    {
     "name": "stdout",
     "output_type": "stream",
     "text": [
      "1,2,3,4,5,\n",
      "3,4,5,1,2,\n"
     ]
    }
   ],
   "source": [
    "lst = LinkedList()\n",
    "# lst.add_last(1).add_last(2).add_last(3).add_last(4).add_last(5).add_last(6).add_last(7).add_last(8)\n",
    "lst.add_last(1).add_last(2).add_last(3).add_last(4).add_last(5)\n",
    "# lst.add_last(1).add_last(2)\n",
    "lst.printlist()\n",
    "new_head = rotateRight(lst.head.next, 3)\n",
    "new_linked = LinkedList()\n",
    "new_linked.head.next = new_head\n",
    "new_linked.printlist()\n",
    "\n",
    "\n"
   ]
  },
  {
   "cell_type": "markdown",
   "metadata": {},
   "source": [
    "### <a id='Ex1'>Ex.1 Reverse a Linked List</a>"
   ]
  },
  {
   "cell_type": "code",
   "execution_count": 24,
   "metadata": {},
   "outputs": [],
   "source": [
    "def reverse(lst):\n",
    "    head = lst.head\n",
    "    result = None\n",
    "    current = head.next\n",
    "    nxt = None\n",
    "    \n",
    "    while current is not None:\n",
    "        nxt = current.next\n",
    "        current.next = result\n",
    "        result = current\n",
    "        current = nxt\n",
    "        \n",
    "    head.next = result"
   ]
  },
  {
   "cell_type": "code",
   "execution_count": 27,
   "metadata": {},
   "outputs": [],
   "source": [
    "\n",
    "    "
   ]
  },
  {
   "cell_type": "code",
   "execution_count": 28,
   "metadata": {
    "scrolled": true
   },
   "outputs": [
    {
     "name": "stdout",
     "output_type": "stream",
     "text": [
      "1,3,5,7,9,\n",
      "1,3,5,7,9,\n"
     ]
    }
   ],
   "source": [
    "lst = LinkedList()\n",
    "lst.add_last(1)\n",
    "lst.add_last(3)\n",
    "lst.add_last(5)\n",
    "lst.add_last(7)\n",
    "lst.add_last(9)\n",
    "lst.printlist()\n",
    "reverse(lst)\n",
    "lst.printlist()"
   ]
  },
  {
   "cell_type": "code",
   "execution_count": 31,
   "metadata": {},
   "outputs": [],
   "source": [
    "# 自己改写递归版本\n",
    "def reverse(head = lst.head, result=None, current=lst.head.next, nxt=None):\n",
    "    if current is None:\n",
    "        head.next = result\n",
    "        return    \n",
    "    nxt = current.next\n",
    "    current.next = result\n",
    "    result = current\n",
    "    current = nxt\n",
    "    reverse(head = lst.head, result=result, current=current, nxt=nxt)\n"
   ]
  },
  {
   "cell_type": "code",
   "execution_count": 29,
   "metadata": {},
   "outputs": [],
   "source": [
    "def reverseRecursion(node):\n",
    "    if (node is None or node.next is None):\n",
    "        return node\n",
    "    p = reverseRecursion(node.next)\n",
    "    node.next.next = node\n",
    "    node.next = None\n",
    "    return p\n"
   ]
  },
  {
   "cell_type": "code",
   "execution_count": 32,
   "metadata": {},
   "outputs": [
    {
     "name": "stdout",
     "output_type": "stream",
     "text": [
      "1,3,5,7,9,\n",
      "9,7,5,3,1,\n"
     ]
    }
   ],
   "source": [
    "lst = LinkedList()\n",
    "lst.add_last(1)\n",
    "lst.add_last(3)\n",
    "lst.add_last(5)\n",
    "lst.add_last(7)\n",
    "lst.add_last(9)\n",
    "lst.printlist()\n",
    "lst.head.next = reverseRecursion(lst.head.next)\n",
    "lst.printlist()"
   ]
  },
  {
   "cell_type": "markdown",
   "metadata": {},
   "source": [
    "### <a id='Ex2'>Ex.2 Reverse a Linked List II</a>\n",
    "\n",
    "Reverse a linked list from position m to n. Do it in-place and in one-pass.\n",
    "\n",
    "1=<m =< n =< len(linked)\n",
    "\n",
    "For example:\n",
    "\n",
    "Given 1->2->3->4->5->NULL, m = 2 and n = 4,\n",
    "\n",
    "return 1->4->3->2->5->NULL."
   ]
  },
  {
   "cell_type": "code",
   "execution_count": 52,
   "metadata": {},
   "outputs": [],
   "source": [
    "def reverseBetween(head, m, n):\n",
    "    if m == n:\n",
    "        return head\n",
    "\n",
    "    dummyNode = Node(0)\n",
    "    dummyNode.next = head\n",
    "    pre = dummyNode\n",
    "    \n",
    "    for i in range(m - 1):\n",
    "        pre = pre.next\n",
    "\n",
    "    # reverse the [m, n] nodes\n",
    "    result = None\n",
    "    current = pre.next\n",
    "    for i in range(n - m + 1):\n",
    "        nxt = current.next\n",
    "        current.next = result\n",
    "        result = current\n",
    "        current = nxt\n",
    "\n",
    "    pre.next.next = current\n",
    "    pre.next = result\n",
    "    \n",
    "    if m == 1:\n",
    "        return result\n",
    "\n",
    "    return dummyNode.next\n"
   ]
  },
  {
   "cell_type": "code",
   "execution_count": 53,
   "metadata": {
    "scrolled": true
   },
   "outputs": [
    {
     "name": "stdout",
     "output_type": "stream",
     "text": [
      "1,3,5,7,9,\n",
      "1,7,5,3,9,\n"
     ]
    }
   ],
   "source": [
    "lst = LinkedList()\n",
    "\n",
    "lst.add_last(1)\n",
    "\n",
    "lst.add_last(3)\n",
    "lst.add_last(5)\n",
    "lst.add_last(7)\n",
    "lst.add_last(9)\n",
    "lst.printlist()\n",
    "lst.head.next = reverseBetween(lst.head.next, 2, 4)\n",
    "lst.printlist()\n",
    "# lst.head.next = reverseBetween(lst.head.next, 1, 4)\n",
    "# lst.printlist()\n",
    "# lst.head.next = reverseBetween(lst.head.next, 1, 3)\n",
    "# lst.printlist()"
   ]
  },
  {
   "cell_type": "code",
   "execution_count": 50,
   "metadata": {},
   "outputs": [],
   "source": [
    "\n",
    "        \n",
    "          "
   ]
  },
  {
   "cell_type": "markdown",
   "metadata": {},
   "source": [
    "### <a id='Ex3'>Ex.3 Reverse a Linked List III</a>\n",
    "Swap Nodes in Pairs\n",
    "\n",
    "Given a linked list, swap every two adjacent nodes and return its head.\n",
    "\n",
    "For example,\n",
    "\n",
    "Given 1->2->3->4, you should return the list as 2->1->4->3.\n",
    "\n",
    "Your algorithm should use only constant space. You may not modify the values in the list, only nodes itself can be changed."
   ]
  },
  {
   "cell_type": "code",
   "execution_count": 7,
   "metadata": {
    "collapsed": true
   },
   "outputs": [],
   "source": [
    "def swapPairs(head):\n",
    "    dummy = cur = Node(0)\n",
    "    dummy.next = head\n",
    "    \n",
    "    while cur.next and cur.next.next:\n",
    "        p1 = cur.next\n",
    "        p2 = cur.next.next\n",
    "        cur.next  = p2\n",
    "        p1.next = p2.next\n",
    "        p2.next = p1\n",
    "        cur = cur.next.next\n",
    "    return dummy.next"
   ]
  },
  {
   "cell_type": "code",
   "execution_count": 9,
   "metadata": {},
   "outputs": [
    {
     "name": "stdout",
     "output_type": "stream",
     "text": [
      "1 2 3 4 \n",
      "2 1 4 3 \n",
      "1 2 3 4 \n"
     ]
    }
   ],
   "source": [
    "lst = LinkedList()\n",
    "lst.add_last(1)\n",
    "lst.add_last(2)\n",
    "lst.add_last(3)\n",
    "lst.add_last(4)\n",
    "lst.printlist()\n",
    "lst.head.next = swapPairs(lst.head.next)\n",
    "lst.printlist()\n",
    "lst.head.next = swapPairs(lst.head.next)\n",
    "lst.printlist()"
   ]
  },
  {
   "cell_type": "code",
   "execution_count": 10,
   "metadata": {},
   "outputs": [
    {
     "name": "stdout",
     "output_type": "stream",
     "text": [
      "1 2 3 4 5 \n",
      "2 1 4 3 5 \n"
     ]
    }
   ],
   "source": [
    "lst.add_last(5)\n",
    "lst.printlist()\n",
    "lst.head.next = swapPairs(lst.head.next)\n",
    "lst.printlist()"
   ]
  },
  {
   "cell_type": "code",
   "execution_count": null,
   "metadata": {
    "collapsed": true
   },
   "outputs": [],
   "source": []
  },
  {
   "cell_type": "markdown",
   "metadata": {},
   "source": [
    "### <a id='Ex4'>Ex.4 Reverse a Linked List IV</a>"
   ]
  },
  {
   "cell_type": "markdown",
   "metadata": {},
   "source": [
    "Reverse Nodes in k-Group\n",
    "\n",
    "Given a linked list, reverse the nodes of a linked list k at a time and return its modified list.\n",
    "\n",
    "k is a positive integer and is less than or equal to the length of the linked list. If the number of nodes is not a multiple of k then left-out nodes in the end should remain as it is.\n",
    "\n",
    "You may not alter the values in the nodes, only nodes itself may be changed.\n",
    "\n",
    "Only constant memory is allowed.\n",
    "\n",
    "For example,\n",
    "\n",
    "Given this linked list: 1->2->3->4->5\n",
    "\n",
    "For k = 2, you should return: 2->1->4->3->5\n",
    "\n",
    "For k = 3, you should return: 3->2->1->4->5"
   ]
  },
  {
   "cell_type": "code",
   "execution_count": 56,
   "metadata": {},
   "outputs": [],
   "source": [
    "def reverseKGroup(head, k):\n",
    "    if head is None or k < 2:\n",
    "        return head\n",
    "    \n",
    "    next_head_pre = head\n",
    "    for i in range(k - 1):\n",
    "        next_head_pre = next_head_pre.next\n",
    "        if next_head_pre is None:\n",
    "            return head\n",
    "        \n",
    "    update_head = next_head_pre\n",
    "    \n",
    "    current = head\n",
    "    while next_head_pre:\n",
    "        prev = current\n",
    "        result = None\n",
    "        for i in range(k):\n",
    "            if next_head_pre:\n",
    "                next_head_pre = next_head_pre.next\n",
    "            nxt = current.next\n",
    "            current.next = result\n",
    "            result = current\n",
    "            current = nxt\n",
    "        prev.next = next_head_pre or current\n",
    "#         prev.next = current\n",
    "    return update_head"
   ]
  },
  {
   "cell_type": "code",
   "execution_count": 57,
   "metadata": {
    "scrolled": false
   },
   "outputs": [
    {
     "name": "stdout",
     "output_type": "stream",
     "text": [
      "1,3,5,7,9,\n",
      "3,1,7,5,9,\n",
      "7,1,3,5,9,\n",
      "5,3,1,7,9,\n",
      "9,7,1,3,5,\n",
      "9,7,1,3,5,\n"
     ]
    }
   ],
   "source": [
    "lst = LinkedList()\n",
    "lst.add_last(1)\n",
    "lst.add_last(3)\n",
    "lst.add_last(5)\n",
    "lst.add_last(7)\n",
    "lst.add_last(9)\n",
    "lst.printlist()\n",
    "lst.head.next = reverseKGroup(lst.head.next, 2)\n",
    "lst.printlist()\n",
    "lst.head.next = reverseKGroup(lst.head.next, 3)\n",
    "lst.printlist()\n",
    "lst.head.next = reverseKGroup(lst.head.next, 4)\n",
    "lst.printlist()\n",
    "lst.head.next = reverseKGroup(lst.head.next, 5)\n",
    "lst.printlist()\n",
    "lst.head.next = reverseKGroup(lst.head.next, 7)\n",
    "lst.printlist()"
   ]
  },
  {
   "cell_type": "code",
   "execution_count": 54,
   "metadata": {},
   "outputs": [],
   "source": []
  },
  {
   "cell_type": "code",
   "execution_count": 55,
   "metadata": {},
   "outputs": [
    {
     "name": "stdout",
     "output_type": "stream",
     "text": [
      "1,2,3,4,5,6,7,8,\n",
      "6\n",
      "3,2,1,6,8,7,\n"
     ]
    }
   ],
   "source": [
    "lst = LinkedList()\n",
    "lst.add_last(1).add_last(2).add_last(3).add_last(4).add_last(5).add_last(6).add_last(7).add_last(8)\n",
    "lst.printlist()\n",
    "lst.head.next = reverseKGroup(lst.head.next, 3)\n",
    "lst.printlist()"
   ]
  },
  {
   "cell_type": "markdown",
   "metadata": {},
   "source": [
    "### <a id='Ex5'>Ex.5 Palindrome Linked List</a>\n",
    "\n",
    "Given a singly linked list, determine if it is a palindrome.\n",
    "\n",
    "Could you do it in O(n) time and O(1) space?"
   ]
  },
  {
   "cell_type": "code",
   "execution_count": 76,
   "metadata": {},
   "outputs": [],
   "source": [
    "def isPalindrome(head, lst):\n",
    "    rev = None\n",
    "    slow = fast = head\n",
    "    while fast and fast.next:\n",
    "        fast = fast.next.next\n",
    "        rev, rev.next, slow = slow, rev, slow.next\n",
    "        print('rev:', rev, rev.next)\n",
    "    if fast:\n",
    "        slow = slow.next\n",
    "    while rev and rev.val == slow.val:\n",
    "        slow = slow.next\n",
    "        rev = rev.next\n",
    "    return not rev"
   ]
  },
  {
   "cell_type": "code",
   "execution_count": 77,
   "metadata": {},
   "outputs": [
    {
     "name": "stdout",
     "output_type": "stream",
     "text": [
      "rev: 1 None\n",
      "rev: 3 1\n"
     ]
    },
    {
     "data": {
      "text/plain": [
       "False"
      ]
     },
     "execution_count": 77,
     "metadata": {},
     "output_type": "execute_result"
    }
   ],
   "source": [
    "lst = LinkedList()\n",
    "lst.add_last(1)\n",
    "lst.add_last(3)\n",
    "lst.add_last(5)\n",
    "lst.add_last(7)\n",
    "lst.add_last(9)\n",
    "isPalindrome(lst.head.next, lst)"
   ]
  },
  {
   "cell_type": "code",
   "execution_count": 69,
   "metadata": {},
   "outputs": [
    {
     "name": "stdout",
     "output_type": "stream",
     "text": [
      "1,3,5,7,9,\n",
      "1,\n",
      "1,\n",
      "False\n",
      "1,\n"
     ]
    }
   ],
   "source": [
    "lst = LinkedList()\n",
    "lst.add_last(1)\n",
    "lst.add_last(3)\n",
    "lst.add_last(5)\n",
    "lst.add_last(7)\n",
    "lst.add_last(9)\n",
    "lst.printlist()\n",
    "print(isPalindrome(lst.head.next, lst))\n",
    "lst.printlist()"
   ]
  },
  {
   "cell_type": "code",
   "execution_count": 78,
   "metadata": {},
   "outputs": [
    {
     "name": "stdout",
     "output_type": "stream",
     "text": [
      "1,3,5,3,1,\n"
     ]
    }
   ],
   "source": [
    "lst = LinkedList()\n",
    "lst.add_last(1)\n",
    "lst.add_last(3)\n",
    "lst.add_last(5)\n",
    "lst.add_last(3)\n",
    "lst.add_last(1)\n",
    "lst.printlist()\n"
   ]
  },
  {
   "cell_type": "code",
   "execution_count": 88,
   "metadata": {
    "scrolled": true
   },
   "outputs": [
    {
     "name": "stdout",
     "output_type": "stream",
     "text": [
      "1,3,5,5,3,1,\n",
      "5,3,1,\n"
     ]
    }
   ],
   "source": [
    "lst = LinkedList()\n",
    "lst.add_last(1)\n",
    "lst.add_last(3)\n",
    "lst.add_last(5)\n",
    "lst.add_last(5)\n",
    "lst.add_last(3)\n",
    "lst.add_last(1)\n",
    "lst.printlist()\n",
    "head = lst.head.next\n",
    "fast = head\n",
    "slow = head\n",
    "rev = None\n",
    "\n",
    "while fast and fast.next:\n",
    "    fast = fast.next.next\n",
    "    rev, rev.next, slow = slow, rev, slow.next\n",
    "    \n",
    "lst1 = LinkedList()\n",
    "lst1.head.next = rev\n",
    "\n",
    "    \n",
    "lst1.printlist()"
   ]
  },
  {
   "cell_type": "markdown",
   "metadata": {},
   "source": [
    "### <a id='Ex6'>Ex.6 Remove Duplicates from Sorted List</a>\n",
    "\n",
    "Given a sorted linked list, delete all duplicates such that each element appear only once.\n",
    "\n",
    "For example,\n",
    "\n",
    "Given 1->1->2, return 1->2.\n",
    "\n",
    "Given 1->1->2->3->3, return 1->2->3."
   ]
  },
  {
   "cell_type": "code",
   "execution_count": 62,
   "metadata": {
    "collapsed": true
   },
   "outputs": [],
   "source": [
    "def deleteDuplicates(head):\n",
    "    if head == None:\n",
    "        return head\n",
    "\n",
    "    node = head\n",
    "\n",
    "    while node.next:\n",
    "        if node.value == node.next.value:\n",
    "            node.next = node.next.next\n",
    "        else:\n",
    "            node = node.next\n",
    "\n",
    "    return head"
   ]
  },
  {
   "cell_type": "code",
   "execution_count": 64,
   "metadata": {},
   "outputs": [
    {
     "name": "stdout",
     "output_type": "stream",
     "text": [
      "hello\n",
      "1 3 5 7 9 \n"
     ]
    }
   ],
   "source": [
    "lst = LinkedList()\n",
    "lst.add_last(1)\n",
    "lst.add_last(3)\n",
    "lst.add_last(3)\n",
    "lst.add_last(3)\n",
    "lst.add_last(5)\n",
    "lst.add_last(7)\n",
    "lst.add_last(7)\n",
    "lst.add_last(9)\n",
    "lst.head.next = deleteDuplicates(lst.head.next)\n",
    "lst.printlist()"
   ]
  },
  {
   "cell_type": "markdown",
   "metadata": {},
   "source": [
    "### <a id='Ex7'>Ex.7 Remove Duplicates from Sorted List II</a>\n",
    "\n",
    "Given a sorted linked list, delete all nodes that have duplicate numbers, leaving only distinct numbers from the original list.\n",
    "\n",
    "For example,\n",
    "\n",
    "Given 1->2->3->3->4->4->5, return 1->2->5.\n",
    "\n",
    "Given 1->1->1->2->3, return 2->3."
   ]
  },
  {
   "cell_type": "code",
   "execution_count": 70,
   "metadata": {
    "collapsed": true
   },
   "outputs": [],
   "source": [
    "def deleteDuplicates2(head):\n",
    "    dummy = pre = Node(0)\n",
    "    dummy.next = head\n",
    "    while head and head.next:\n",
    "        if head.value == head.next.value:\n",
    "            while head and head.next and head.value == head.next.value:\n",
    "                head = head.next\n",
    "            head = head.next\n",
    "            pre.next = head\n",
    "        else:\n",
    "            pre = pre.next\n",
    "            head = head.next\n",
    "    return dummy.next"
   ]
  },
  {
   "cell_type": "code",
   "execution_count": null,
   "metadata": {
    "collapsed": true
   },
   "outputs": [],
   "source": []
  },
  {
   "cell_type": "code",
   "execution_count": 71,
   "metadata": {},
   "outputs": [
    {
     "name": "stdout",
     "output_type": "stream",
     "text": [
      "hello\n",
      "1 5 9 \n"
     ]
    }
   ],
   "source": [
    "lst = LinkedList()\n",
    "lst.add_last(1)\n",
    "lst.add_last(3)\n",
    "lst.add_last(3)\n",
    "lst.add_last(3)\n",
    "lst.add_last(5)\n",
    "lst.add_last(7)\n",
    "lst.add_last(7)\n",
    "lst.add_last(9)\n",
    "lst.head.next = deleteDuplicates2(lst.head.next)\n",
    "lst.printlist()"
   ]
  },
  {
   "cell_type": "code",
   "execution_count": null,
   "metadata": {
    "collapsed": true
   },
   "outputs": [],
   "source": []
  }
 ],
 "metadata": {
  "kernelspec": {
   "display_name": "Python 3",
   "language": "python",
   "name": "python3"
  },
  "language_info": {
   "codemirror_mode": {
    "name": "ipython",
    "version": 3
   },
   "file_extension": ".py",
   "mimetype": "text/x-python",
   "name": "python",
   "nbconvert_exporter": "python",
   "pygments_lexer": "ipython3",
   "version": "3.6.8"
  }
 },
 "nbformat": 4,
 "nbformat_minor": 2
}
